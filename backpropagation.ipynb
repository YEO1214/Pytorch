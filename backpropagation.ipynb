{
  "nbformat": 4,
  "nbformat_minor": 0,
  "metadata": {
    "colab": {
      "name": "backpropagation.ipynb",
      "provenance": [],
      "collapsed_sections": []
    },
    "kernelspec": {
      "name": "python3",
      "display_name": "Python 3"
    },
    "language_info": {
      "name": "python"
    }
  },
  "cells": [
    {
      "cell_type": "code",
      "metadata": {
        "id": "8m13Ht04Ewv8"
      },
      "source": [
        "import torch"
      ],
      "execution_count": null,
      "outputs": []
    },
    {
      "cell_type": "code",
      "metadata": {
        "colab": {
          "base_uri": "https://localhost:8080/"
        },
        "id": "kTgaN_IgE9oT",
        "outputId": "251d1bc3-9aef-439d-d2ae-c2777694f958"
      },
      "source": [
        "x = torch.ones(2,2,requires_grad=True) #변수 선언\n",
        "print(x)"
      ],
      "execution_count": null,
      "outputs": [
        {
          "output_type": "stream",
          "text": [
            "tensor([[1., 1.],\n",
            "        [1., 1.]], requires_grad=True)\n"
          ],
          "name": "stdout"
        }
      ]
    },
    {
      "cell_type": "code",
      "metadata": {
        "colab": {
          "base_uri": "https://localhost:8080/"
        },
        "id": "qCkhF_QcFMQM",
        "outputId": "282d8c45-db5e-47c2-8d60-c95c524e0d5a"
      },
      "source": [
        " y = x+1 #모델 내 연산 예측값 산출\n",
        " print(y)"
      ],
      "execution_count": null,
      "outputs": [
        {
          "output_type": "stream",
          "text": [
            "tensor([[2., 2.],\n",
            "        [2., 2.]], grad_fn=<AddBackward0>)\n"
          ],
          "name": "stdout"
        }
      ]
    },
    {
      "cell_type": "code",
      "metadata": {
        "id": "6jikr-9RFQHy"
      },
      "source": [
        "z = 2*y**2 #손실함수 계산\n",
        "res = z.mean()"
      ],
      "execution_count": null,
      "outputs": []
    },
    {
      "cell_type": "code",
      "metadata": {
        "colab": {
          "base_uri": "https://localhost:8080/"
        },
        "id": "v0qxKWRoFXhB",
        "outputId": "a86c4b58-1479-4335-f150-c2b1248723fa"
      },
      "source": [
        "print(res) #손실 산출"
      ],
      "execution_count": null,
      "outputs": [
        {
          "output_type": "stream",
          "text": [
            "tensor(8., grad_fn=<MeanBackward0>)\n"
          ],
          "name": "stdout"
        }
      ]
    },
    {
      "cell_type": "code",
      "metadata": {
        "id": "AHoU3FPNFpcr"
      },
      "source": [
        "#d(res)/dx_i = x_i + 1\n",
        "#res = (z_1 + .. + z_4)/4\n",
        "#z_i = 2y_i**2\n",
        "#z_i = 2(x_i+1)**2\n",
        "res.backward()"
      ],
      "execution_count": null,
      "outputs": []
    },
    {
      "cell_type": "code",
      "metadata": {
        "colab": {
          "base_uri": "https://localhost:8080/"
        },
        "id": "VCA_oVDOGUOf",
        "outputId": "b6160401-cc2a-4787-bd3c-61f7d47ca222"
      },
      "source": [
        "print(x.grad) #x 미분값"
      ],
      "execution_count": null,
      "outputs": [
        {
          "output_type": "stream",
          "text": [
            "tensor([[2., 2.],\n",
            "        [2., 2.]])\n"
          ],
          "name": "stdout"
        }
      ]
    },
    {
      "cell_type": "code",
      "metadata": {
        "id": "mQlX7WxOGbz7"
      },
      "source": [
        "#실제로는 이러한 라이브러리 사용\n",
        "import torch.nn as nn\n",
        "import torch.nn.functional as F"
      ],
      "execution_count": null,
      "outputs": []
    }
  ]
}