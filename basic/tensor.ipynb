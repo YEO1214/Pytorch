{
  "nbformat": 4,
  "nbformat_minor": 0,
  "metadata": {
    "colab": {
      "name": "tensor.ipynb",
      "provenance": [],
      "collapsed_sections": []
    },
    "kernelspec": {
      "name": "python3",
      "display_name": "Python 3"
    },
    "language_info": {
      "name": "python"
    }
  },
  "cells": [
    {
      "cell_type": "code",
      "metadata": {
        "id": "bwrWos3x9OSu"
      },
      "source": [
        "import torch\n",
        "import numpy as np"
      ],
      "execution_count": null,
      "outputs": []
    },
    {
      "cell_type": "code",
      "metadata": {
        "colab": {
          "base_uri": "https://localhost:8080/"
        },
        "id": "7PmjmDvPBxeB",
        "outputId": "47571811-6b78-4311-c421-8ba4fc7801b6"
      },
      "source": [
        "x = torch.empty(5,4) #빈 텐서 생성\n",
        "print(x)"
      ],
      "execution_count": null,
      "outputs": [
        {
          "output_type": "stream",
          "text": [
            "tensor([[1.1932e+37, 3.0684e-41, 7.0065e-44, 6.8664e-44],\n",
            "        [6.3058e-44, 6.7262e-44, 7.2868e-44, 6.3058e-44],\n",
            "        [6.8664e-44, 7.9874e-44, 1.1771e-43, 6.7262e-44],\n",
            "        [7.7071e-44, 8.1275e-44, 7.0065e-44, 7.7071e-44],\n",
            "        [8.1275e-44, 7.4269e-44, 7.7071e-44, 6.4460e-44]])\n"
          ],
          "name": "stdout"
        }
      ]
    },
    {
      "cell_type": "code",
      "metadata": {
        "colab": {
          "base_uri": "https://localhost:8080/"
        },
        "id": "KhK62wNZB3Qv",
        "outputId": "03222885-aa00-494c-c3b7-3d0e20f60874"
      },
      "source": [
        "torch.ones(3,3) #1행렬 생성"
      ],
      "execution_count": null,
      "outputs": [
        {
          "output_type": "execute_result",
          "data": {
            "text/plain": [
              "tensor([[1., 1., 1.],\n",
              "        [1., 1., 1.],\n",
              "        [1., 1., 1.]])"
            ]
          },
          "metadata": {
            "tags": []
          },
          "execution_count": 3
        }
      ]
    },
    {
      "cell_type": "code",
      "metadata": {
        "colab": {
          "base_uri": "https://localhost:8080/"
        },
        "id": "GMtSty-JB_79",
        "outputId": "8e2ebc78-9d93-4aa7-c47d-fbc3c31baa48"
      },
      "source": [
        "torch.zeros(2) #0행렬 생성"
      ],
      "execution_count": null,
      "outputs": [
        {
          "output_type": "execute_result",
          "data": {
            "text/plain": [
              "tensor([0., 0.])"
            ]
          },
          "metadata": {
            "tags": []
          },
          "execution_count": 4
        }
      ]
    },
    {
      "cell_type": "code",
      "metadata": {
        "colab": {
          "base_uri": "https://localhost:8080/"
        },
        "id": "lwxJolHWCESl",
        "outputId": "6391c499-319b-4c40-8281-d80345f2c922"
      },
      "source": [
        "torch.rand(5,6) #랜덤행렬 생성"
      ],
      "execution_count": null,
      "outputs": [
        {
          "output_type": "execute_result",
          "data": {
            "text/plain": [
              "tensor([[0.4188, 0.4818, 0.9234, 0.0385, 0.0462, 0.1360],\n",
              "        [0.0476, 0.3940, 0.3005, 0.7228, 0.3438, 0.3048],\n",
              "        [0.8060, 0.2324, 0.5521, 0.3503, 0.4682, 0.0250],\n",
              "        [0.7744, 0.4743, 0.2038, 0.8758, 0.8891, 0.1278],\n",
              "        [0.6402, 0.6092, 0.0664, 0.4569, 0.6122, 0.3461]])"
            ]
          },
          "metadata": {
            "tags": []
          },
          "execution_count": 5
        }
      ]
    },
    {
      "cell_type": "code",
      "metadata": {
        "id": "vGNDCjaCCJf5"
      },
      "source": [
        "l=[13,4]\n",
        "r = np.array([4,56,7])"
      ],
      "execution_count": null,
      "outputs": []
    },
    {
      "cell_type": "code",
      "metadata": {
        "colab": {
          "base_uri": "https://localhost:8080/"
        },
        "id": "tI9PRPpECYMl",
        "outputId": "4742ce38-f800-4cde-e206-e9aaed7b6bbc"
      },
      "source": [
        "torch.tensor(l)"
      ],
      "execution_count": null,
      "outputs": [
        {
          "output_type": "execute_result",
          "data": {
            "text/plain": [
              "tensor([13,  4])"
            ]
          },
          "metadata": {
            "tags": []
          },
          "execution_count": 9
        }
      ]
    },
    {
      "cell_type": "code",
      "metadata": {
        "colab": {
          "base_uri": "https://localhost:8080/"
        },
        "id": "-Rnyjnh0CeY4",
        "outputId": "c9edda61-66c2-4aa5-a256-e4d53664c049"
      },
      "source": [
        "torch.tensor(r)"
      ],
      "execution_count": null,
      "outputs": [
        {
          "output_type": "execute_result",
          "data": {
            "text/plain": [
              "tensor([ 4, 56,  7])"
            ]
          },
          "metadata": {
            "tags": []
          },
          "execution_count": 11
        }
      ]
    },
    {
      "cell_type": "code",
      "metadata": {
        "colab": {
          "base_uri": "https://localhost:8080/"
        },
        "id": "E6cGmPIoChXU",
        "outputId": "e5b9c0cd-c38c-4ba6-fc6b-43b37189e7ef"
      },
      "source": [
        "x.size()"
      ],
      "execution_count": null,
      "outputs": [
        {
          "output_type": "execute_result",
          "data": {
            "text/plain": [
              "torch.Size([5, 4])"
            ]
          },
          "metadata": {
            "tags": []
          },
          "execution_count": 13
        }
      ]
    },
    {
      "cell_type": "code",
      "metadata": {
        "colab": {
          "base_uri": "https://localhost:8080/"
        },
        "id": "dDOMmNSZCkXg",
        "outputId": "f168ec00-46a7-49db-9613-6a6b700bf6e7"
      },
      "source": [
        "type(x)"
      ],
      "execution_count": null,
      "outputs": [
        {
          "output_type": "execute_result",
          "data": {
            "text/plain": [
              "torch.Tensor"
            ]
          },
          "metadata": {
            "tags": []
          },
          "execution_count": 14
        }
      ]
    },
    {
      "cell_type": "code",
      "metadata": {
        "colab": {
          "base_uri": "https://localhost:8080/"
        },
        "id": "_fenoki2CmV7",
        "outputId": "9f3c8367-16ca-4b08-c099-e7db56e3fd2c"
      },
      "source": [
        "x = torch.rand(2,2)\n",
        "y = torch.rand(2,2)\n",
        "print(x)\n",
        "print(y)"
      ],
      "execution_count": null,
      "outputs": [
        {
          "output_type": "stream",
          "text": [
            "tensor([[0.8276, 0.6600],\n",
            "        [0.0244, 0.0973]])\n",
            "tensor([[0.8367, 0.8099],\n",
            "        [0.2688, 0.6978]])\n"
          ],
          "name": "stdout"
        }
      ]
    },
    {
      "cell_type": "code",
      "metadata": {
        "colab": {
          "base_uri": "https://localhost:8080/"
        },
        "id": "9FCVUyM3C0pQ",
        "outputId": "e01e966a-dc3d-4ab0-cb1a-2c7400f1e533"
      },
      "source": [
        "x+y"
      ],
      "execution_count": null,
      "outputs": [
        {
          "output_type": "execute_result",
          "data": {
            "text/plain": [
              "tensor([[1.6643, 1.4699],\n",
              "        [0.2932, 0.7950]])"
            ]
          },
          "metadata": {
            "tags": []
          },
          "execution_count": 16
        }
      ]
    },
    {
      "cell_type": "code",
      "metadata": {
        "colab": {
          "base_uri": "https://localhost:8080/"
        },
        "id": "rXZ6gQwqC2p2",
        "outputId": "cb9d89d9-1434-47ba-a476-45e046fc2b8d"
      },
      "source": [
        "torch.add(x,y)"
      ],
      "execution_count": null,
      "outputs": [
        {
          "output_type": "execute_result",
          "data": {
            "text/plain": [
              "tensor([[1.6643, 1.4699],\n",
              "        [0.2932, 0.7950]])"
            ]
          },
          "metadata": {
            "tags": []
          },
          "execution_count": 17
        }
      ]
    },
    {
      "cell_type": "code",
      "metadata": {
        "colab": {
          "base_uri": "https://localhost:8080/"
        },
        "id": "drE7mBbVC6vj",
        "outputId": "531f51f3-ddd8-455e-aaae-f434b3822af4"
      },
      "source": [
        "y.add(x) #단순 연산"
      ],
      "execution_count": null,
      "outputs": [
        {
          "output_type": "execute_result",
          "data": {
            "text/plain": [
              "tensor([[1.6643, 1.4699],\n",
              "        [0.2932, 0.7950]])"
            ]
          },
          "metadata": {
            "tags": []
          },
          "execution_count": 18
        }
      ]
    },
    {
      "cell_type": "code",
      "metadata": {
        "colab": {
          "base_uri": "https://localhost:8080/"
        },
        "id": "SxEe_1gVC9-O",
        "outputId": "3e05e450-1614-4a61-d575-c430bddb2018"
      },
      "source": [
        "y.add_(x) #y에 x를 더해서 y를 대체"
      ],
      "execution_count": null,
      "outputs": [
        {
          "output_type": "execute_result",
          "data": {
            "text/plain": [
              "tensor([[1.6643, 1.4699],\n",
              "        [0.2932, 0.7950]])"
            ]
          },
          "metadata": {
            "tags": []
          },
          "execution_count": 19
        }
      ]
    },
    {
      "cell_type": "code",
      "metadata": {
        "colab": {
          "base_uri": "https://localhost:8080/"
        },
        "id": "VoMlplwTDJuc",
        "outputId": "f82151a4-db7e-435d-87a9-53d433fe7a63"
      },
      "source": [
        "y[1,1]"
      ],
      "execution_count": null,
      "outputs": [
        {
          "output_type": "execute_result",
          "data": {
            "text/plain": [
              "tensor(0.7950)"
            ]
          },
          "metadata": {
            "tags": []
          },
          "execution_count": 20
        }
      ]
    },
    {
      "cell_type": "code",
      "metadata": {
        "colab": {
          "base_uri": "https://localhost:8080/"
        },
        "id": "D7pe-Ip9DQ2v",
        "outputId": "ff164fa9-2573-4749-ea41-a4be2f58160f"
      },
      "source": [
        "x = torch.rand(8,8)\n",
        "print(x)"
      ],
      "execution_count": null,
      "outputs": [
        {
          "output_type": "stream",
          "text": [
            "tensor([[0.7985, 0.9586, 0.0936, 0.6015, 0.0099, 0.4372, 0.2192, 0.4064],\n",
            "        [0.4147, 0.2459, 0.5293, 0.9217, 0.9128, 0.7772, 0.1042, 0.0687],\n",
            "        [0.2678, 0.2675, 0.0941, 0.4597, 0.5267, 0.2335, 0.2287, 0.7420],\n",
            "        [0.0362, 0.2976, 0.6389, 0.6851, 0.4085, 0.2209, 0.0300, 0.1444],\n",
            "        [0.7941, 0.4518, 0.1388, 0.8507, 0.3444, 0.3862, 0.3697, 0.3293],\n",
            "        [0.4274, 0.0458, 0.7738, 0.0147, 0.3515, 0.5868, 0.7487, 0.9688],\n",
            "        [0.7598, 0.2477, 0.3148, 0.4699, 0.0075, 0.9349, 0.7015, 0.2421],\n",
            "        [0.8175, 0.8556, 0.5231, 0.0368, 0.6617, 0.7953, 0.6047, 0.5940]])\n"
          ],
          "name": "stdout"
        }
      ]
    },
    {
      "cell_type": "code",
      "metadata": {
        "colab": {
          "base_uri": "https://localhost:8080/"
        },
        "id": "FhUYNZQiDbGW",
        "outputId": "69714770-d64f-4760-df68-37aeaad9044e"
      },
      "source": [
        "x.view(64) #한 열로 표현"
      ],
      "execution_count": null,
      "outputs": [
        {
          "output_type": "execute_result",
          "data": {
            "text/plain": [
              "tensor([0.7985, 0.9586, 0.0936, 0.6015, 0.0099, 0.4372, 0.2192, 0.4064, 0.4147,\n",
              "        0.2459, 0.5293, 0.9217, 0.9128, 0.7772, 0.1042, 0.0687, 0.2678, 0.2675,\n",
              "        0.0941, 0.4597, 0.5267, 0.2335, 0.2287, 0.7420, 0.0362, 0.2976, 0.6389,\n",
              "        0.6851, 0.4085, 0.2209, 0.0300, 0.1444, 0.7941, 0.4518, 0.1388, 0.8507,\n",
              "        0.3444, 0.3862, 0.3697, 0.3293, 0.4274, 0.0458, 0.7738, 0.0147, 0.3515,\n",
              "        0.5868, 0.7487, 0.9688, 0.7598, 0.2477, 0.3148, 0.4699, 0.0075, 0.9349,\n",
              "        0.7015, 0.2421, 0.8175, 0.8556, 0.5231, 0.0368, 0.6617, 0.7953, 0.6047,\n",
              "        0.5940])"
            ]
          },
          "metadata": {
            "tags": []
          },
          "execution_count": 25
        }
      ]
    },
    {
      "cell_type": "code",
      "metadata": {
        "colab": {
          "base_uri": "https://localhost:8080/"
        },
        "id": "X0CH6So3Dlkz",
        "outputId": "80d8c866-8721-4ad2-f187-dd59cc695c07"
      },
      "source": [
        "x.view(-1,16) #나머지 값이 고정되어야 자동값 대입, -1은 하나만 표현"
      ],
      "execution_count": null,
      "outputs": [
        {
          "output_type": "execute_result",
          "data": {
            "text/plain": [
              "tensor([[0.7985, 0.9586, 0.0936, 0.6015, 0.0099, 0.4372, 0.2192, 0.4064, 0.4147,\n",
              "         0.2459, 0.5293, 0.9217, 0.9128, 0.7772, 0.1042, 0.0687],\n",
              "        [0.2678, 0.2675, 0.0941, 0.4597, 0.5267, 0.2335, 0.2287, 0.7420, 0.0362,\n",
              "         0.2976, 0.6389, 0.6851, 0.4085, 0.2209, 0.0300, 0.1444],\n",
              "        [0.7941, 0.4518, 0.1388, 0.8507, 0.3444, 0.3862, 0.3697, 0.3293, 0.4274,\n",
              "         0.0458, 0.7738, 0.0147, 0.3515, 0.5868, 0.7487, 0.9688],\n",
              "        [0.7598, 0.2477, 0.3148, 0.4699, 0.0075, 0.9349, 0.7015, 0.2421, 0.8175,\n",
              "         0.8556, 0.5231, 0.0368, 0.6617, 0.7953, 0.6047, 0.5940]])"
            ]
          },
          "metadata": {
            "tags": []
          },
          "execution_count": 27
        }
      ]
    },
    {
      "cell_type": "code",
      "metadata": {
        "colab": {
          "base_uri": "https://localhost:8080/"
        },
        "id": "FKRdChhGD6pH",
        "outputId": "7723b7a8-befc-4987-c55e-1eec7f8ab8b6"
      },
      "source": [
        "x.view(-1,4,4)"
      ],
      "execution_count": null,
      "outputs": [
        {
          "output_type": "execute_result",
          "data": {
            "text/plain": [
              "tensor([[[0.7985, 0.9586, 0.0936, 0.6015],\n",
              "         [0.0099, 0.4372, 0.2192, 0.4064],\n",
              "         [0.4147, 0.2459, 0.5293, 0.9217],\n",
              "         [0.9128, 0.7772, 0.1042, 0.0687]],\n",
              "\n",
              "        [[0.2678, 0.2675, 0.0941, 0.4597],\n",
              "         [0.5267, 0.2335, 0.2287, 0.7420],\n",
              "         [0.0362, 0.2976, 0.6389, 0.6851],\n",
              "         [0.4085, 0.2209, 0.0300, 0.1444]],\n",
              "\n",
              "        [[0.7941, 0.4518, 0.1388, 0.8507],\n",
              "         [0.3444, 0.3862, 0.3697, 0.3293],\n",
              "         [0.4274, 0.0458, 0.7738, 0.0147],\n",
              "         [0.3515, 0.5868, 0.7487, 0.9688]],\n",
              "\n",
              "        [[0.7598, 0.2477, 0.3148, 0.4699],\n",
              "         [0.0075, 0.9349, 0.7015, 0.2421],\n",
              "         [0.8175, 0.8556, 0.5231, 0.0368],\n",
              "         [0.6617, 0.7953, 0.6047, 0.5940]]])"
            ]
          },
          "metadata": {
            "tags": []
          },
          "execution_count": 28
        }
      ]
    },
    {
      "cell_type": "code",
      "metadata": {
        "colab": {
          "base_uri": "https://localhost:8080/"
        },
        "id": "oxlIICKiECo-",
        "outputId": "f606123a-2505-477a-e921-e963cb22f680"
      },
      "source": [
        "y = x.numpy()\n",
        "print(y)"
      ],
      "execution_count": null,
      "outputs": [
        {
          "output_type": "stream",
          "text": [
            "[[0.7985042  0.9585818  0.09360725 0.6014551  0.00990963 0.4371863\n",
            "  0.21916813 0.40641677]\n",
            " [0.4147228  0.24588567 0.52931076 0.9216913  0.9128284  0.7771659\n",
            "  0.10418057 0.06866252]\n",
            " [0.26782328 0.26746422 0.0941084  0.4597184  0.52671236 0.23346627\n",
            "  0.22865582 0.7419593 ]\n",
            " [0.03621548 0.29755628 0.63892865 0.68511844 0.4085058  0.2209301\n",
            "  0.02996534 0.14435732]\n",
            " [0.79411465 0.4518438  0.13876188 0.85071784 0.34435457 0.38619137\n",
            "  0.36967164 0.3292812 ]\n",
            " [0.42744386 0.04578793 0.7738349  0.01466942 0.3514809  0.5867978\n",
            "  0.74866545 0.9688008 ]\n",
            " [0.7598258  0.24769789 0.31484216 0.46987587 0.00748169 0.93494457\n",
            "  0.7015078  0.24212438]\n",
            " [0.81749517 0.85559833 0.52308875 0.03678441 0.6617474  0.7952991\n",
            "  0.60467476 0.59396994]]\n"
          ],
          "name": "stdout"
        }
      ]
    },
    {
      "cell_type": "code",
      "metadata": {
        "colab": {
          "base_uri": "https://localhost:8080/"
        },
        "id": "lbKRV7-aEIo1",
        "outputId": "0faf8a8f-816d-4655-babd-70396a0518ae"
      },
      "source": [
        "type(y)"
      ],
      "execution_count": null,
      "outputs": [
        {
          "output_type": "execute_result",
          "data": {
            "text/plain": [
              "numpy.ndarray"
            ]
          },
          "metadata": {
            "tags": []
          },
          "execution_count": 30
        }
      ]
    },
    {
      "cell_type": "code",
      "metadata": {
        "id": "8RHuObi2EK8V"
      },
      "source": [
        "x = torch.ones(1)"
      ],
      "execution_count": null,
      "outputs": []
    },
    {
      "cell_type": "code",
      "metadata": {
        "colab": {
          "base_uri": "https://localhost:8080/"
        },
        "id": "X7RLuj_SEPO6",
        "outputId": "70d35a4b-9986-470f-af62-686d65a1d46e"
      },
      "source": [
        "x #텐서"
      ],
      "execution_count": null,
      "outputs": [
        {
          "output_type": "execute_result",
          "data": {
            "text/plain": [
              "tensor([1.])"
            ]
          },
          "metadata": {
            "tags": []
          },
          "execution_count": 32
        }
      ]
    },
    {
      "cell_type": "code",
      "metadata": {
        "colab": {
          "base_uri": "https://localhost:8080/"
        },
        "id": "V4ZVlzoQESNM",
        "outputId": "afa4c8b3-b965-4faf-c240-4bab3d74ec64"
      },
      "source": [
        "x.item() #x안의 값을 뽑아낼 때, 사용/ loss값 뽑아낼 때 사용"
      ],
      "execution_count": null,
      "outputs": [
        {
          "output_type": "execute_result",
          "data": {
            "text/plain": [
              "1.0"
            ]
          },
          "metadata": {
            "tags": []
          },
          "execution_count": 34
        }
      ]
    }
  ]
}