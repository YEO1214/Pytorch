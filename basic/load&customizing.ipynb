{
  "nbformat": 4,
  "nbformat_minor": 0,
  "metadata": {
    "colab": {
      "name": "load&customizing.ipynb",
      "provenance": [],
      "collapsed_sections": []
    },
    "kernelspec": {
      "name": "python3",
      "display_name": "Python 3"
    },
    "language_info": {
      "name": "python"
    },
    "widgets": {
      "application/vnd.jupyter.widget-state+json": {
        "b6fe0b41f785462ebcb1ad55e10eb673": {
          "model_module": "@jupyter-widgets/controls",
          "model_name": "HBoxModel",
          "state": {
            "_view_name": "HBoxView",
            "_dom_classes": [],
            "_model_name": "HBoxModel",
            "_view_module": "@jupyter-widgets/controls",
            "_model_module_version": "1.5.0",
            "_view_count": null,
            "_view_module_version": "1.5.0",
            "box_style": "",
            "layout": "IPY_MODEL_f67e4d8bf117422385007839d1b0f796",
            "_model_module": "@jupyter-widgets/controls",
            "children": [
              "IPY_MODEL_e555fe1c519b4aa3a31894be600212be",
              "IPY_MODEL_8458b8507bec481698cef3480962fc36"
            ]
          }
        },
        "f67e4d8bf117422385007839d1b0f796": {
          "model_module": "@jupyter-widgets/base",
          "model_name": "LayoutModel",
          "state": {
            "_view_name": "LayoutView",
            "grid_template_rows": null,
            "right": null,
            "justify_content": null,
            "_view_module": "@jupyter-widgets/base",
            "overflow": null,
            "_model_module_version": "1.2.0",
            "_view_count": null,
            "flex_flow": null,
            "width": null,
            "min_width": null,
            "border": null,
            "align_items": null,
            "bottom": null,
            "_model_module": "@jupyter-widgets/base",
            "top": null,
            "grid_column": null,
            "overflow_y": null,
            "overflow_x": null,
            "grid_auto_flow": null,
            "grid_area": null,
            "grid_template_columns": null,
            "flex": null,
            "_model_name": "LayoutModel",
            "justify_items": null,
            "grid_row": null,
            "max_height": null,
            "align_content": null,
            "visibility": null,
            "align_self": null,
            "height": null,
            "min_height": null,
            "padding": null,
            "grid_auto_rows": null,
            "grid_gap": null,
            "max_width": null,
            "order": null,
            "_view_module_version": "1.2.0",
            "grid_template_areas": null,
            "object_position": null,
            "object_fit": null,
            "grid_auto_columns": null,
            "margin": null,
            "display": null,
            "left": null
          }
        },
        "e555fe1c519b4aa3a31894be600212be": {
          "model_module": "@jupyter-widgets/controls",
          "model_name": "FloatProgressModel",
          "state": {
            "_view_name": "ProgressView",
            "style": "IPY_MODEL_9a71cc9ba7c847fe8c865bfddfc45cd8",
            "_dom_classes": [],
            "description": "",
            "_model_name": "FloatProgressModel",
            "bar_style": "success",
            "max": 170498071,
            "_view_module": "@jupyter-widgets/controls",
            "_model_module_version": "1.5.0",
            "value": 170498071,
            "_view_count": null,
            "_view_module_version": "1.5.0",
            "orientation": "horizontal",
            "min": 0,
            "description_tooltip": null,
            "_model_module": "@jupyter-widgets/controls",
            "layout": "IPY_MODEL_3cd2e1e668af44c9bd9b26da2c77ba2b"
          }
        },
        "8458b8507bec481698cef3480962fc36": {
          "model_module": "@jupyter-widgets/controls",
          "model_name": "HTMLModel",
          "state": {
            "_view_name": "HTMLView",
            "style": "IPY_MODEL_d945535da1e941b0b7d1c683bf0f7860",
            "_dom_classes": [],
            "description": "",
            "_model_name": "HTMLModel",
            "placeholder": "​",
            "_view_module": "@jupyter-widgets/controls",
            "_model_module_version": "1.5.0",
            "value": " 170499072/? [15:03&lt;00:00, 188686.01it/s]",
            "_view_count": null,
            "_view_module_version": "1.5.0",
            "description_tooltip": null,
            "_model_module": "@jupyter-widgets/controls",
            "layout": "IPY_MODEL_676e27adde0d428cbe25694bd597a629"
          }
        },
        "9a71cc9ba7c847fe8c865bfddfc45cd8": {
          "model_module": "@jupyter-widgets/controls",
          "model_name": "ProgressStyleModel",
          "state": {
            "_view_name": "StyleView",
            "_model_name": "ProgressStyleModel",
            "description_width": "initial",
            "_view_module": "@jupyter-widgets/base",
            "_model_module_version": "1.5.0",
            "_view_count": null,
            "_view_module_version": "1.2.0",
            "bar_color": null,
            "_model_module": "@jupyter-widgets/controls"
          }
        },
        "3cd2e1e668af44c9bd9b26da2c77ba2b": {
          "model_module": "@jupyter-widgets/base",
          "model_name": "LayoutModel",
          "state": {
            "_view_name": "LayoutView",
            "grid_template_rows": null,
            "right": null,
            "justify_content": null,
            "_view_module": "@jupyter-widgets/base",
            "overflow": null,
            "_model_module_version": "1.2.0",
            "_view_count": null,
            "flex_flow": null,
            "width": null,
            "min_width": null,
            "border": null,
            "align_items": null,
            "bottom": null,
            "_model_module": "@jupyter-widgets/base",
            "top": null,
            "grid_column": null,
            "overflow_y": null,
            "overflow_x": null,
            "grid_auto_flow": null,
            "grid_area": null,
            "grid_template_columns": null,
            "flex": null,
            "_model_name": "LayoutModel",
            "justify_items": null,
            "grid_row": null,
            "max_height": null,
            "align_content": null,
            "visibility": null,
            "align_self": null,
            "height": null,
            "min_height": null,
            "padding": null,
            "grid_auto_rows": null,
            "grid_gap": null,
            "max_width": null,
            "order": null,
            "_view_module_version": "1.2.0",
            "grid_template_areas": null,
            "object_position": null,
            "object_fit": null,
            "grid_auto_columns": null,
            "margin": null,
            "display": null,
            "left": null
          }
        },
        "d945535da1e941b0b7d1c683bf0f7860": {
          "model_module": "@jupyter-widgets/controls",
          "model_name": "DescriptionStyleModel",
          "state": {
            "_view_name": "StyleView",
            "_model_name": "DescriptionStyleModel",
            "description_width": "",
            "_view_module": "@jupyter-widgets/base",
            "_model_module_version": "1.5.0",
            "_view_count": null,
            "_view_module_version": "1.2.0",
            "_model_module": "@jupyter-widgets/controls"
          }
        },
        "676e27adde0d428cbe25694bd597a629": {
          "model_module": "@jupyter-widgets/base",
          "model_name": "LayoutModel",
          "state": {
            "_view_name": "LayoutView",
            "grid_template_rows": null,
            "right": null,
            "justify_content": null,
            "_view_module": "@jupyter-widgets/base",
            "overflow": null,
            "_model_module_version": "1.2.0",
            "_view_count": null,
            "flex_flow": null,
            "width": null,
            "min_width": null,
            "border": null,
            "align_items": null,
            "bottom": null,
            "_model_module": "@jupyter-widgets/base",
            "top": null,
            "grid_column": null,
            "overflow_y": null,
            "overflow_x": null,
            "grid_auto_flow": null,
            "grid_area": null,
            "grid_template_columns": null,
            "flex": null,
            "_model_name": "LayoutModel",
            "justify_items": null,
            "grid_row": null,
            "max_height": null,
            "align_content": null,
            "visibility": null,
            "align_self": null,
            "height": null,
            "min_height": null,
            "padding": null,
            "grid_auto_rows": null,
            "grid_gap": null,
            "max_width": null,
            "order": null,
            "_view_module_version": "1.2.0",
            "grid_template_areas": null,
            "object_position": null,
            "object_fit": null,
            "grid_auto_columns": null,
            "margin": null,
            "display": null,
            "left": null
          }
        }
      }
    }
  },
  "cells": [
    {
      "cell_type": "code",
      "metadata": {
        "id": "lRDHmlf8G0ex"
      },
      "source": [
        "import torch\n",
        "import torchvision\n",
        "import torchvision.transforms as tr\n",
        "from torch.utils.data import DataLoader, Dataset \n",
        "import numpy as np"
      ],
      "execution_count": null,
      "outputs": []
    },
    {
      "cell_type": "code",
      "metadata": {
        "id": "f5EtdN0vImHZ"
      },
      "source": [
        " #Compose에 필요한 전처리 방법 대입\n",
        "transf = tr.Compose([tr.Resize(8),tr.ToTensor()]) #Transforms on PIL Image"
      ],
      "execution_count": null,
      "outputs": []
    },
    {
      "cell_type": "code",
      "metadata": {
        "colab": {
          "base_uri": "https://localhost:8080/",
          "height": 116,
          "referenced_widgets": [
            "b6fe0b41f785462ebcb1ad55e10eb673",
            "f67e4d8bf117422385007839d1b0f796",
            "e555fe1c519b4aa3a31894be600212be",
            "8458b8507bec481698cef3480962fc36",
            "9a71cc9ba7c847fe8c865bfddfc45cd8",
            "3cd2e1e668af44c9bd9b26da2c77ba2b",
            "d945535da1e941b0b7d1c683bf0f7860",
            "676e27adde0d428cbe25694bd597a629"
          ]
        },
        "id": "vbtCW0t5H3cp",
        "outputId": "9cfe239b-624d-407d-8c2c-7c527f89780d"
      },
      "source": [
        "#1. 파이토치 제공 데이터 사용\n",
        "train = torchvision.datasets.CIFAR10(root='./data',train=True,download=True, transform=transf)\n",
        "test = torchvision.datasets.CIFAR10(root='./data',train=False,download=True, transform=transf)"
      ],
      "execution_count": null,
      "outputs": [
        {
          "output_type": "stream",
          "text": [
            "Downloading https://www.cs.toronto.edu/~kriz/cifar-10-python.tar.gz to ./data/cifar-10-python.tar.gz\n"
          ],
          "name": "stdout"
        },
        {
          "output_type": "display_data",
          "data": {
            "application/vnd.jupyter.widget-view+json": {
              "model_id": "b6fe0b41f785462ebcb1ad55e10eb673",
              "version_minor": 0,
              "version_major": 2
            },
            "text/plain": [
              "HBox(children=(FloatProgress(value=0.0, max=170498071.0), HTML(value='')))"
            ]
          },
          "metadata": {
            "tags": []
          }
        },
        {
          "output_type": "stream",
          "text": [
            "\n",
            "Extracting ./data/cifar-10-python.tar.gz to ./data\n",
            "Files already downloaded and verified\n"
          ],
          "name": "stdout"
        }
      ]
    },
    {
      "cell_type": "code",
      "metadata": {
        "colab": {
          "base_uri": "https://localhost:8080/"
        },
        "id": "TFdydCSAJZPa",
        "outputId": "bf000445-ebdb-4443-9678-e8b818498578"
      },
      "source": [
        "train[0][0].size() #채널3개에 8*8이미지"
      ],
      "execution_count": null,
      "outputs": [
        {
          "output_type": "execute_result",
          "data": {
            "text/plain": [
              "torch.Size([3, 8, 8])"
            ]
          },
          "metadata": {
            "tags": []
          },
          "execution_count": 11
        }
      ]
    },
    {
      "cell_type": "code",
      "metadata": {
        "id": "bRM6vLnIJnkc"
      },
      "source": [
        "trainloader = DataLoader(train,batch_size=50,shuffle=True,num_workers=2) #배치 사이즈 정하기\n",
        "testloader = DataLoader(test,batch_size=50,shuffle=True,num_workers=2)"
      ],
      "execution_count": null,
      "outputs": []
    },
    {
      "cell_type": "code",
      "metadata": {
        "colab": {
          "base_uri": "https://localhost:8080/"
        },
        "id": "KsU8_o6IKHRB",
        "outputId": "5f12e948-390d-49af-f631-d082397f44cc"
      },
      "source": [
        "len(trainloader) #배치 사이즈 50개인 배치가 1000개 있음"
      ],
      "execution_count": null,
      "outputs": [
        {
          "output_type": "execute_result",
          "data": {
            "text/plain": [
              "1000"
            ]
          },
          "metadata": {
            "tags": []
          },
          "execution_count": 6
        }
      ]
    },
    {
      "cell_type": "code",
      "metadata": {
        "id": "aARQ7K3vKT93"
      },
      "source": [
        "dataiter = iter(trainloader)\n",
        "images, labels = dataiter.next()"
      ],
      "execution_count": null,
      "outputs": []
    },
    {
      "cell_type": "code",
      "metadata": {
        "colab": {
          "base_uri": "https://localhost:8080/"
        },
        "id": "1nYhmUTdKp4v",
        "outputId": "72c3b6fd-3226-4a1f-f3d2-fea716d0ff13"
      },
      "source": [
        "images.size() #배치 사이즈 50, 채널 3, 너비 8, 높이 8"
      ],
      "execution_count": null,
      "outputs": [
        {
          "output_type": "execute_result",
          "data": {
            "text/plain": [
              "torch.Size([50, 3, 8, 8])"
            ]
          },
          "metadata": {
            "tags": []
          },
          "execution_count": 8
        }
      ]
    },
    {
      "cell_type": "code",
      "metadata": {
        "id": "_QK1GBbfKCtX"
      },
      "source": [
        "#2. 같은 클래스 별 폴더 이미지 데이터 이용"
      ],
      "execution_count": null,
      "outputs": []
    },
    {
      "cell_type": "code",
      "metadata": {
        "colab": {
          "base_uri": "https://localhost:8080/",
          "height": 373
        },
        "id": "exSZxqYuK15c",
        "outputId": "b71459b7-b9b9-4c9f-cb48-f851a397db10"
      },
      "source": [
        "# ./class/tiger ./class/lion\n",
        "transf = tr.Compose([tr.Resize(16),tr.ToTensor()])\n",
        "trainset = torchvision.datasets.ImageFolder(root='./class',transform=transf) #ImageFolder: 각각의 다른 폴더에 대해서 다른 레이블을 달아줌\n",
        "trainloader = DataLoader(trainset, batch_size=1,shuffle=False,num_works=2)\n",
        "print(len(trainloader))"
      ],
      "execution_count": null,
      "outputs": [
        {
          "output_type": "error",
          "ename": "FileNotFoundError",
          "evalue": "ignored",
          "traceback": [
            "\u001b[0;31m---------------------------------------------------------------------------\u001b[0m",
            "\u001b[0;31mFileNotFoundError\u001b[0m                         Traceback (most recent call last)",
            "\u001b[0;32m<ipython-input-12-37bc8a42b08d>\u001b[0m in \u001b[0;36m<module>\u001b[0;34m()\u001b[0m\n\u001b[1;32m      1\u001b[0m \u001b[0;31m# ./class/tiger ./class/lion\u001b[0m\u001b[0;34m\u001b[0m\u001b[0;34m\u001b[0m\u001b[0;34m\u001b[0m\u001b[0m\n\u001b[1;32m      2\u001b[0m \u001b[0mtransf\u001b[0m \u001b[0;34m=\u001b[0m \u001b[0mtr\u001b[0m\u001b[0;34m.\u001b[0m\u001b[0mCompose\u001b[0m\u001b[0;34m(\u001b[0m\u001b[0;34m[\u001b[0m\u001b[0mtr\u001b[0m\u001b[0;34m.\u001b[0m\u001b[0mResize\u001b[0m\u001b[0;34m(\u001b[0m\u001b[0;36m16\u001b[0m\u001b[0;34m)\u001b[0m\u001b[0;34m,\u001b[0m\u001b[0mtr\u001b[0m\u001b[0;34m.\u001b[0m\u001b[0mToTensor\u001b[0m\u001b[0;34m(\u001b[0m\u001b[0;34m)\u001b[0m\u001b[0;34m]\u001b[0m\u001b[0;34m)\u001b[0m\u001b[0;34m\u001b[0m\u001b[0;34m\u001b[0m\u001b[0m\n\u001b[0;32m----> 3\u001b[0;31m \u001b[0mtrainset\u001b[0m \u001b[0;34m=\u001b[0m \u001b[0mtorchvision\u001b[0m\u001b[0;34m.\u001b[0m\u001b[0mdatasets\u001b[0m\u001b[0;34m.\u001b[0m\u001b[0mImageFolder\u001b[0m\u001b[0;34m(\u001b[0m\u001b[0mroot\u001b[0m\u001b[0;34m=\u001b[0m\u001b[0;34m'./class'\u001b[0m\u001b[0;34m,\u001b[0m\u001b[0mtransform\u001b[0m\u001b[0;34m=\u001b[0m\u001b[0mtransf\u001b[0m\u001b[0;34m)\u001b[0m \u001b[0;31m#ImageFolder: 각각의 다른 폴더에 대해서 다른 레이블을 달아줌\u001b[0m\u001b[0;34m\u001b[0m\u001b[0;34m\u001b[0m\u001b[0m\n\u001b[0m\u001b[1;32m      4\u001b[0m \u001b[0mtrainloader\u001b[0m \u001b[0;34m=\u001b[0m \u001b[0mDataLoader\u001b[0m\u001b[0;34m(\u001b[0m\u001b[0mtrainset\u001b[0m\u001b[0;34m,\u001b[0m \u001b[0mbatch_size\u001b[0m\u001b[0;34m=\u001b[0m\u001b[0;36m1\u001b[0m\u001b[0;34m,\u001b[0m\u001b[0mshuffle\u001b[0m\u001b[0;34m=\u001b[0m\u001b[0;32mFalse\u001b[0m\u001b[0;34m,\u001b[0m\u001b[0mnum_works\u001b[0m\u001b[0;34m=\u001b[0m\u001b[0;36m2\u001b[0m\u001b[0;34m)\u001b[0m\u001b[0;34m\u001b[0m\u001b[0;34m\u001b[0m\u001b[0m\n\u001b[1;32m      5\u001b[0m \u001b[0mprint\u001b[0m\u001b[0;34m(\u001b[0m\u001b[0mlen\u001b[0m\u001b[0;34m(\u001b[0m\u001b[0mtrainloader\u001b[0m\u001b[0;34m)\u001b[0m\u001b[0;34m)\u001b[0m\u001b[0;34m\u001b[0m\u001b[0;34m\u001b[0m\u001b[0m\n",
            "\u001b[0;32m/usr/local/lib/python3.7/dist-packages/torchvision/datasets/folder.py\u001b[0m in \u001b[0;36m__init__\u001b[0;34m(self, root, transform, target_transform, loader, is_valid_file)\u001b[0m\n\u001b[1;32m    254\u001b[0m                                           \u001b[0mtransform\u001b[0m\u001b[0;34m=\u001b[0m\u001b[0mtransform\u001b[0m\u001b[0;34m,\u001b[0m\u001b[0;34m\u001b[0m\u001b[0;34m\u001b[0m\u001b[0m\n\u001b[1;32m    255\u001b[0m                                           \u001b[0mtarget_transform\u001b[0m\u001b[0;34m=\u001b[0m\u001b[0mtarget_transform\u001b[0m\u001b[0;34m,\u001b[0m\u001b[0;34m\u001b[0m\u001b[0;34m\u001b[0m\u001b[0m\n\u001b[0;32m--> 256\u001b[0;31m                                           is_valid_file=is_valid_file)\n\u001b[0m\u001b[1;32m    257\u001b[0m         \u001b[0mself\u001b[0m\u001b[0;34m.\u001b[0m\u001b[0mimgs\u001b[0m \u001b[0;34m=\u001b[0m \u001b[0mself\u001b[0m\u001b[0;34m.\u001b[0m\u001b[0msamples\u001b[0m\u001b[0;34m\u001b[0m\u001b[0;34m\u001b[0m\u001b[0m\n",
            "\u001b[0;32m/usr/local/lib/python3.7/dist-packages/torchvision/datasets/folder.py\u001b[0m in \u001b[0;36m__init__\u001b[0;34m(self, root, loader, extensions, transform, target_transform, is_valid_file)\u001b[0m\n\u001b[1;32m    124\u001b[0m         super(DatasetFolder, self).__init__(root, transform=transform,\n\u001b[1;32m    125\u001b[0m                                             target_transform=target_transform)\n\u001b[0;32m--> 126\u001b[0;31m         \u001b[0mclasses\u001b[0m\u001b[0;34m,\u001b[0m \u001b[0mclass_to_idx\u001b[0m \u001b[0;34m=\u001b[0m \u001b[0mself\u001b[0m\u001b[0;34m.\u001b[0m\u001b[0m_find_classes\u001b[0m\u001b[0;34m(\u001b[0m\u001b[0mself\u001b[0m\u001b[0;34m.\u001b[0m\u001b[0mroot\u001b[0m\u001b[0;34m)\u001b[0m\u001b[0;34m\u001b[0m\u001b[0;34m\u001b[0m\u001b[0m\n\u001b[0m\u001b[1;32m    127\u001b[0m         \u001b[0msamples\u001b[0m \u001b[0;34m=\u001b[0m \u001b[0mself\u001b[0m\u001b[0;34m.\u001b[0m\u001b[0mmake_dataset\u001b[0m\u001b[0;34m(\u001b[0m\u001b[0mself\u001b[0m\u001b[0;34m.\u001b[0m\u001b[0mroot\u001b[0m\u001b[0;34m,\u001b[0m \u001b[0mclass_to_idx\u001b[0m\u001b[0;34m,\u001b[0m \u001b[0mextensions\u001b[0m\u001b[0;34m,\u001b[0m \u001b[0mis_valid_file\u001b[0m\u001b[0;34m)\u001b[0m\u001b[0;34m\u001b[0m\u001b[0;34m\u001b[0m\u001b[0m\n\u001b[1;32m    128\u001b[0m         \u001b[0;32mif\u001b[0m \u001b[0mlen\u001b[0m\u001b[0;34m(\u001b[0m\u001b[0msamples\u001b[0m\u001b[0;34m)\u001b[0m \u001b[0;34m==\u001b[0m \u001b[0;36m0\u001b[0m\u001b[0;34m:\u001b[0m\u001b[0;34m\u001b[0m\u001b[0;34m\u001b[0m\u001b[0m\n",
            "\u001b[0;32m/usr/local/lib/python3.7/dist-packages/torchvision/datasets/folder.py\u001b[0m in \u001b[0;36m_find_classes\u001b[0;34m(self, dir)\u001b[0m\n\u001b[1;32m    162\u001b[0m             \u001b[0mNo\u001b[0m \u001b[0;32mclass\u001b[0m \u001b[0;32mis\u001b[0m \u001b[0ma\u001b[0m \u001b[0msubdirectory\u001b[0m \u001b[0mof\u001b[0m \u001b[0manother\u001b[0m\u001b[0;34m.\u001b[0m\u001b[0;34m\u001b[0m\u001b[0;34m\u001b[0m\u001b[0m\n\u001b[1;32m    163\u001b[0m         \"\"\"\n\u001b[0;32m--> 164\u001b[0;31m         \u001b[0mclasses\u001b[0m \u001b[0;34m=\u001b[0m \u001b[0;34m[\u001b[0m\u001b[0md\u001b[0m\u001b[0;34m.\u001b[0m\u001b[0mname\u001b[0m \u001b[0;32mfor\u001b[0m \u001b[0md\u001b[0m \u001b[0;32min\u001b[0m \u001b[0mos\u001b[0m\u001b[0;34m.\u001b[0m\u001b[0mscandir\u001b[0m\u001b[0;34m(\u001b[0m\u001b[0mdir\u001b[0m\u001b[0;34m)\u001b[0m \u001b[0;32mif\u001b[0m \u001b[0md\u001b[0m\u001b[0;34m.\u001b[0m\u001b[0mis_dir\u001b[0m\u001b[0;34m(\u001b[0m\u001b[0;34m)\u001b[0m\u001b[0;34m]\u001b[0m\u001b[0;34m\u001b[0m\u001b[0;34m\u001b[0m\u001b[0m\n\u001b[0m\u001b[1;32m    165\u001b[0m         \u001b[0mclasses\u001b[0m\u001b[0;34m.\u001b[0m\u001b[0msort\u001b[0m\u001b[0;34m(\u001b[0m\u001b[0;34m)\u001b[0m\u001b[0;34m\u001b[0m\u001b[0;34m\u001b[0m\u001b[0m\n\u001b[1;32m    166\u001b[0m         \u001b[0mclass_to_idx\u001b[0m \u001b[0;34m=\u001b[0m \u001b[0;34m{\u001b[0m\u001b[0mcls_name\u001b[0m\u001b[0;34m:\u001b[0m \u001b[0mi\u001b[0m \u001b[0;32mfor\u001b[0m \u001b[0mi\u001b[0m\u001b[0;34m,\u001b[0m \u001b[0mcls_name\u001b[0m \u001b[0;32min\u001b[0m \u001b[0menumerate\u001b[0m\u001b[0;34m(\u001b[0m\u001b[0mclasses\u001b[0m\u001b[0;34m)\u001b[0m\u001b[0;34m}\u001b[0m\u001b[0;34m\u001b[0m\u001b[0;34m\u001b[0m\u001b[0m\n",
            "\u001b[0;31mFileNotFoundError\u001b[0m: [Errno 2] No such file or directory: './class'"
          ]
        }
      ]
    },
    {
      "cell_type": "code",
      "metadata": {
        "colab": {
          "base_uri": "https://localhost:8080/"
        },
        "id": "GdaWmFrXL3mx",
        "outputId": "457a7bf6-5708-4edb-c4b8-1e8dc06c175b"
      },
      "source": [
        "#3. 개인 데이터 사용\n",
        "#import preprocessing\n",
        "\n",
        "train_images = np.random.randint(256,size=(20,32,32,3)) #20*20 3채널 이미지가 20개\n",
        "train_labels = np.random.randint(2,size=(20,1)) #레이블 20개\n",
        "\n",
        "#preprocessing...\n",
        "#train_images, train_labels = preprocessing(train_images, train_labels)\n",
        "\n",
        "print(train_images.shape, train_labels.shape)"
      ],
      "execution_count": null,
      "outputs": [
        {
          "output_type": "stream",
          "text": [
            "(20, 32, 32, 3) (20, 1)\n"
          ],
          "name": "stdout"
        }
      ]
    },
    {
      "cell_type": "code",
      "metadata": {
        "id": "NZ8GaaeqMj4Q"
      },
      "source": [
        "#데이터셋을 상속 받을 클래스를 지정\n",
        "class TensorData(Dataset):\n",
        "\n",
        "  def __init__(self,x_data,y_data):\n",
        "    self.x_data = torch.FloatTensor(x_data) #Float/Long: 숫자 속성\n",
        "    self.x_data = self.x_data.permute(0,3,1,2) #이미지 개수, 채널 수, 이미지 너비, 높이\n",
        "    self.y_data =  torch.LongTensor(y_data)\n",
        "    self.len = self.y_data.shape[0]\n",
        "\n",
        "  def __getitem__(self,index):\n",
        "\n",
        "    return self.x_data[index], self.y_data[index]\n",
        "\n",
        "  def __len__(self):\n",
        "    return self.len "
      ],
      "execution_count": null,
      "outputs": []
    },
    {
      "cell_type": "code",
      "metadata": {
        "id": "LYRTTkn_OiD3"
      },
      "source": [
        "train_data = TensorData(train_images, train_labels)\n",
        "train_loader = DataLoader(train_data,batch_size=10,shuffle=True)"
      ],
      "execution_count": null,
      "outputs": []
    },
    {
      "cell_type": "code",
      "metadata": {
        "colab": {
          "base_uri": "https://localhost:8080/"
        },
        "id": "_sRkIMhePcs5",
        "outputId": "2d3c9e0d-65fc-46fb-cf71-f70b018d2cf4"
      },
      "source": [
        "train_data[0][0].size()"
      ],
      "execution_count": null,
      "outputs": [
        {
          "output_type": "execute_result",
          "data": {
            "text/plain": [
              "torch.Size([3, 32, 32])"
            ]
          },
          "metadata": {
            "tags": []
          },
          "execution_count": 16
        }
      ]
    },
    {
      "cell_type": "code",
      "metadata": {
        "id": "CpfeKcevPx2W"
      },
      "source": [
        "dataiter = iter(train_loader)\n",
        "images, labels = dataiter.next()"
      ],
      "execution_count": null,
      "outputs": []
    },
    {
      "cell_type": "code",
      "metadata": {
        "colab": {
          "base_uri": "https://localhost:8080/"
        },
        "id": "6XqA8FuFQEgI",
        "outputId": "ea901150-2360-4584-e088-f5fec6e090ad"
      },
      "source": [
        "images.size()"
      ],
      "execution_count": null,
      "outputs": [
        {
          "output_type": "execute_result",
          "data": {
            "text/plain": [
              "torch.Size([10, 3, 32, 32])"
            ]
          },
          "metadata": {
            "tags": []
          },
          "execution_count": 18
        }
      ]
    },
    {
      "cell_type": "code",
      "metadata": {
        "id": "QtlrgMoNRC5k"
      },
      "source": [
        "### from torch.utils.data import Dataset\n",
        "class MyDataset(Dataset):\n",
        "\n",
        "  def __init__(self):\n",
        "  \n",
        "  def __getitem__(self,index):\n",
        "\n",
        "  def __len__(self):"
      ],
      "execution_count": null,
      "outputs": []
    },
    {
      "cell_type": "code",
      "metadata": {
        "id": "TMkdMWAMRnyb"
      },
      "source": [
        "class MyDataset(Dataset):\n",
        "\n",
        "  def __init__(self,x_data,y_data,transform=None):\n",
        "    self.x_data = x_data\n",
        "    self.y_data = y_data\n",
        "    self.transform = transform\n",
        "    self.len = len(y_data)\n",
        "\n",
        "  def __getitem__(self,index):\n",
        "    sample = self.x_data[index], self.y_data[index]\n",
        "\n",
        "    if self.transform:\n",
        "      sample = self.transform(sample) #전처리\n",
        "\n",
        "    return sample\n",
        "\n",
        "  def __len__(self):\n",
        "    return self.len \n",
        "\n",
        "class ToTensor:\n",
        "\n",
        "  def __call__(self, sample):\n",
        "    inputs, labels = sample\n",
        "    inputs = torch.FloatTensor(inputs)\n",
        "    inputs = inputs.permute(2,0,1)\n",
        "    return inputs, torch.LongTensor(labels)\n",
        "\n",
        "class LinearTensor:\n",
        "   \n",
        "   def __init__(self, slope=1, bias=0):\n",
        "     self.slope = slope\n",
        "     self.bias = bias\n",
        "   def __call__(self, sample):\n",
        "      inputs, lables = sample\n",
        "      inputs = self.slope*inputs + self.bias\n",
        "      return inputs, labels"
      ],
      "execution_count": null,
      "outputs": []
    },
    {
      "cell_type": "code",
      "metadata": {
        "id": "qTocB188OFmQ"
      },
      "source": [
        "trans = tr.Compose([ToTensor(),LinearTensor(2,5)])\n",
        "ds1 = MyDataset(train_images, train_labels, transform=trans)\n",
        "train_loader1 = DataLoader(ds1,batch_size=10, shuffle=True)"
      ],
      "execution_count": null,
      "outputs": []
    },
    {
      "cell_type": "code",
      "metadata": {
        "colab": {
          "base_uri": "https://localhost:8080/"
        },
        "id": "X-vxP1XYPfqB",
        "outputId": "04a6aa9a-4a40-4306-9fe0-e0cfbe0dae99"
      },
      "source": [
        "first_data = ds1[0]\n",
        "features, labels = first_data\n",
        "print(type(features), type(labels))"
      ],
      "execution_count": null,
      "outputs": [
        {
          "output_type": "stream",
          "text": [
            "<class 'torch.Tensor'> <class 'torch.Tensor'>\n"
          ],
          "name": "stdout"
        }
      ]
    },
    {
      "cell_type": "code",
      "metadata": {
        "id": "OABI-JcNewIu"
      },
      "source": [
        "dataiter1 = iter(train_loader1)\n",
        "images1, labels1 = dataiter1.next()"
      ],
      "execution_count": null,
      "outputs": []
    },
    {
      "cell_type": "code",
      "metadata": {
        "colab": {
          "base_uri": "https://localhost:8080/"
        },
        "id": "cLkx_VLqe8YA",
        "outputId": "f3342d5f-b3c9-4a79-cd46-232c42aa978d"
      },
      "source": [
        "images1"
      ],
      "execution_count": null,
      "outputs": [
        {
          "output_type": "execute_result",
          "data": {
            "text/plain": [
              "tensor([[[[487., 435., 319.,  ...,  81., 471.,  81.],\n",
              "          [303.,  53., 251.,  ..., 335., 279., 421.],\n",
              "          [491., 297., 505.,  ..., 453., 515., 203.],\n",
              "          ...,\n",
              "          [471.,  55., 513.,  ..., 505., 383., 289.],\n",
              "          [167., 413., 281.,  ...,  25.,  87., 191.],\n",
              "          [219., 281., 363.,  ..., 249., 187., 415.]],\n",
              "\n",
              "         [[331., 131., 293.,  ..., 225., 485., 135.],\n",
              "          [389., 281., 389.,  ..., 499., 251., 231.],\n",
              "          [ 49.,  15., 505.,  ..., 281., 163.,  45.],\n",
              "          ...,\n",
              "          [277., 153., 127.,  ..., 391., 169., 139.],\n",
              "          [505., 337.,  55.,  ...,  51.,  93., 309.],\n",
              "          [389., 149., 505.,  ..., 153., 403., 369.]],\n",
              "\n",
              "         [[317., 311., 489.,  ..., 447., 433., 225.],\n",
              "          [209.,  53., 289.,  ...,  49., 109., 111.],\n",
              "          [351., 511., 265.,  ..., 313., 425., 331.],\n",
              "          ...,\n",
              "          [191., 263., 167.,  ..., 365.,  49., 205.],\n",
              "          [ 31., 477., 407.,  ..., 175., 257., 253.],\n",
              "          [ 81., 471., 347.,  ..., 109., 511., 137.]]],\n",
              "\n",
              "\n",
              "        [[[157., 117., 317.,  ...,  47., 203., 441.],\n",
              "          [ 43., 219., 387.,  ..., 211.,  29., 309.],\n",
              "          [429., 479., 367.,  ..., 419., 297., 361.],\n",
              "          ...,\n",
              "          [315., 369., 207.,  ...,  23.,  61., 481.],\n",
              "          [107., 461., 355.,  ..., 113.,  25., 191.],\n",
              "          [131., 393., 207.,  ..., 205., 117., 203.]],\n",
              "\n",
              "         [[509., 243.,  87.,  ..., 475.,   7., 505.],\n",
              "          [507.,  89., 351.,  ..., 193., 149.,   7.],\n",
              "          [ 99.,  41., 463.,  ..., 165., 511.,  27.],\n",
              "          ...,\n",
              "          [383., 413., 125.,  ..., 141.,  65., 307.],\n",
              "          [447., 265., 283.,  ...,  41., 351.,  23.],\n",
              "          [ 77., 433., 147.,  ..., 195., 377., 513.]],\n",
              "\n",
              "         [[391., 411., 245.,  ..., 191., 209., 355.],\n",
              "          [365., 421., 335.,  ..., 483., 173., 207.],\n",
              "          [311., 111., 325.,  ..., 185., 145., 493.],\n",
              "          ...,\n",
              "          [245., 405., 139.,  ..., 247., 433., 443.],\n",
              "          [177., 395., 409.,  ..., 165., 445.,  21.],\n",
              "          [ 35., 289., 293.,  ...,  91.,  91.,  91.]]],\n",
              "\n",
              "\n",
              "        [[[343., 153., 111.,  ..., 315., 489., 167.],\n",
              "          [ 85., 497., 497.,  ..., 265., 299.,  75.],\n",
              "          [ 65., 427., 127.,  ..., 127., 261., 341.],\n",
              "          ...,\n",
              "          [251., 477.,  87.,  ...,  75.,  37., 487.],\n",
              "          [369., 217., 305.,  ..., 115., 413., 123.],\n",
              "          [281.,  97., 509.,  ..., 475., 225., 475.]],\n",
              "\n",
              "         [[271.,  81.,  13.,  ..., 175., 147., 335.],\n",
              "          [115., 145., 183.,  ..., 433., 333., 223.],\n",
              "          [169., 177.,  81.,  ..., 391., 115., 231.],\n",
              "          ...,\n",
              "          [ 21., 351., 137.,  ..., 309., 273.,  97.],\n",
              "          [201., 475.,  67.,  ..., 465., 411., 423.],\n",
              "          [ 81.,  15., 333.,  ..., 171., 495., 385.]],\n",
              "\n",
              "         [[427., 473., 247.,  ..., 339., 119.,  45.],\n",
              "          [187., 507., 473.,  ..., 347., 143., 197.],\n",
              "          [ 95., 217., 337.,  ..., 175., 295., 335.],\n",
              "          ...,\n",
              "          [185., 487., 497.,  ..., 257., 381.,  25.],\n",
              "          [169., 109., 379.,  ..., 501.,   7., 161.],\n",
              "          [183., 485., 401.,  ..., 367., 279., 205.]]],\n",
              "\n",
              "\n",
              "        ...,\n",
              "\n",
              "\n",
              "        [[[471., 179., 447.,  ..., 199., 249., 193.],\n",
              "          [475., 165.,  41.,  ..., 323., 211., 371.],\n",
              "          [155., 315.,  29.,  ...,  71., 501., 433.],\n",
              "          ...,\n",
              "          [481.,  79.,  39.,  ..., 257., 451., 277.],\n",
              "          [191., 317., 189.,  ...,  61., 343., 287.],\n",
              "          [ 77., 405., 159.,  ...,  83., 331., 505.]],\n",
              "\n",
              "         [[ 43.,  73., 115.,  ..., 405., 135., 155.],\n",
              "          [ 97., 281., 333.,  ..., 417., 269., 181.],\n",
              "          [ 33., 175., 131.,  ..., 403., 105., 463.],\n",
              "          ...,\n",
              "          [431., 167.,  37.,  ..., 239., 197., 423.],\n",
              "          [371., 271., 105.,  ..., 311., 403., 219.],\n",
              "          [329., 483.,  77.,  ..., 395.,  49., 287.]],\n",
              "\n",
              "         [[235., 321.,  57.,  ..., 437., 195., 415.],\n",
              "          [ 33., 153., 307.,  ..., 109., 477.,  55.],\n",
              "          [127., 273., 109.,  ..., 123., 257., 109.],\n",
              "          ...,\n",
              "          [255., 121., 281.,  ..., 343., 315.,  15.],\n",
              "          [227., 237.,  11.,  ..., 167., 311.,   5.],\n",
              "          [415., 273., 447.,  ...,  97., 155.,  69.]]],\n",
              "\n",
              "\n",
              "        [[[463., 335., 199.,  ..., 341., 179., 339.],\n",
              "          [509., 273.,  85.,  ..., 509., 351.,  31.],\n",
              "          [449., 317., 383.,  ..., 171., 225., 397.],\n",
              "          ...,\n",
              "          [221.,  91.,  33.,  ..., 369., 185., 423.],\n",
              "          [393., 199.,  89.,  ..., 213.,  57., 195.],\n",
              "          [295., 233., 437.,  ..., 435., 367., 247.]],\n",
              "\n",
              "         [[217.,  25.,  41.,  ...,  35., 273., 287.],\n",
              "          [ 87., 127., 141.,  ..., 133., 371., 325.],\n",
              "          [ 69., 255., 197.,  ..., 139.,  63.,  13.],\n",
              "          ...,\n",
              "          [173., 171., 147.,  ..., 363., 207., 299.],\n",
              "          [503.,  55.,  29.,  ..., 337., 351., 487.],\n",
              "          [ 67., 119., 451.,  ...,  37., 235., 407.]],\n",
              "\n",
              "         [[ 39., 327.,  27.,  ..., 331., 213., 201.],\n",
              "          [493., 271., 315.,  ..., 453., 379., 175.],\n",
              "          [437., 175., 299.,  ..., 143., 347.,  79.],\n",
              "          ...,\n",
              "          [ 71., 397.,  29.,  ..., 257., 503., 411.],\n",
              "          [117., 217., 507.,  ..., 243., 167., 345.],\n",
              "          [ 51., 291., 355.,  ..., 321., 493., 151.]]],\n",
              "\n",
              "\n",
              "        [[[275.,  53.,  49.,  ..., 215., 121., 459.],\n",
              "          [ 31., 181., 153.,  ...,  75., 449., 137.],\n",
              "          [167., 391., 471.,  ..., 271., 401., 423.],\n",
              "          ...,\n",
              "          [231., 313., 241.,  ..., 299.,  47., 219.],\n",
              "          [259.,  39., 135.,  ..., 485., 293., 179.],\n",
              "          [419.,  35.,  43.,  ..., 291., 217., 211.]],\n",
              "\n",
              "         [[223., 239., 393.,  ..., 257., 159., 315.],\n",
              "          [103.,   9., 455.,  ...,  93., 147.,  17.],\n",
              "          [235., 407., 173.,  ...,  89., 145., 475.],\n",
              "          ...,\n",
              "          [421., 213., 333.,  ..., 427., 237., 109.],\n",
              "          [251., 369., 385.,  ..., 249., 109.,  17.],\n",
              "          [377., 241., 381.,  ..., 329.,  75., 373.]],\n",
              "\n",
              "         [[ 77., 137., 163.,  ..., 135., 165.,  97.],\n",
              "          [215., 249., 203.,  ...,  39., 323., 249.],\n",
              "          [131., 247., 223.,  ..., 457., 123., 265.],\n",
              "          ...,\n",
              "          [145., 433., 297.,  ..., 445., 463., 435.],\n",
              "          [427., 347., 201.,  ..., 429., 123., 149.],\n",
              "          [ 43., 153.,  75.,  ..., 121., 163., 433.]]]])"
            ]
          },
          "metadata": {
            "tags": []
          },
          "execution_count": 24
        }
      ]
    },
    {
      "cell_type": "code",
      "metadata": {
        "id": "iYhlSGo_fY59"
      },
      "source": [
        "class MyDataset(Dataset):\n",
        "\n",
        "  def __init__(self,x_data,y_data,transform=None):\n",
        "    self.x_data = x_data\n",
        "    self.y_data = y_data\n",
        "    self.transform = transform\n",
        "    self.len = len(y_data)\n",
        "\n",
        "  def __getitem__(self,index):\n",
        "    sample = self.x_data[index], self.y_data[index]\n",
        "\n",
        "    if self.transform:\n",
        "      sample = self.transform(sample) #전처리\n",
        "\n",
        "    return sample\n",
        "\n",
        "  def __len__(self):\n",
        "    return self.len \n",
        "\n",
        "class MyTransform:\n",
        "\n",
        "  def __call__(self, sample):\n",
        "    inputs, lables = sample\n",
        "    inputs = torch.FloatTensor(inputs)\n",
        "    inputs = inputs.permute(2,0,1)\n",
        "    labels = torch.FloatTensor(lables)\n",
        "\n",
        "    transf = tr.Compose([tr.ToPILImage(), tr.Resize(128), tr.ToTensor(),tr.Normalize((0.5,0.5,0.5),(0.5,0.5,0.5))])\n",
        "    final_output = transf(inputs)\n",
        "\n",
        "    return final_output, lables"
      ],
      "execution_count": null,
      "outputs": []
    },
    {
      "cell_type": "code",
      "metadata": {
        "id": "EAKQAb3wgagH"
      },
      "source": [
        "ds2 = MyDataset(train_images,train_labels, transform=MyTransform())\n",
        "train_loader2 = DataLoader(ds2,batch_size=10,shuffle=True)"
      ],
      "execution_count": null,
      "outputs": []
    },
    {
      "cell_type": "code",
      "metadata": {
        "colab": {
          "base_uri": "https://localhost:8080/"
        },
        "id": "8u17t7ILgsUp",
        "outputId": "41b9cdb7-53a1-4002-cb9e-9a0337428357"
      },
      "source": [
        "first_data = ds2[0]\n",
        "features, lables = first_data\n",
        "print(type(features), type(labels))"
      ],
      "execution_count": null,
      "outputs": [
        {
          "output_type": "stream",
          "text": [
            "<class 'torch.Tensor'> <class 'torch.Tensor'>\n"
          ],
          "name": "stdout"
        }
      ]
    },
    {
      "cell_type": "code",
      "metadata": {
        "id": "WRRcjT_idYkS"
      },
      "source": [
        "dataiter2 = iter(train_loader2)\n",
        "images2, labels2 = dataiter2.next()"
      ],
      "execution_count": null,
      "outputs": []
    },
    {
      "cell_type": "code",
      "metadata": {
        "colab": {
          "base_uri": "https://localhost:8080/"
        },
        "id": "3SsqYWifgWmV",
        "outputId": "09e085df-5705-4e0a-d7d2-cf1cca3182a6"
      },
      "source": [
        "images2.size()"
      ],
      "execution_count": null,
      "outputs": [
        {
          "output_type": "execute_result",
          "data": {
            "text/plain": [
              "torch.Size([10, 3, 128, 128])"
            ]
          },
          "metadata": {
            "tags": []
          },
          "execution_count": 31
        }
      ]
    },
    {
      "cell_type": "code",
      "metadata": {
        "colab": {
          "base_uri": "https://localhost:8080/"
        },
        "id": "jhNF7J6WgZvd",
        "outputId": "3ad50395-7653-421a-c30f-c7b441e8c473"
      },
      "source": [
        "images2"
      ],
      "execution_count": null,
      "outputs": [
        {
          "output_type": "execute_result",
          "data": {
            "text/plain": [
              "tensor([[[[-0.8824, -0.8824, -0.8588,  ...,  0.5216,  0.7098,  0.7098],\n",
              "          [-0.8824, -0.8824, -0.8588,  ...,  0.5216,  0.7098,  0.7098],\n",
              "          [-0.7882, -0.7882, -0.7569,  ...,  0.3882,  0.5451,  0.5451],\n",
              "          ...,\n",
              "          [ 0.1922,  0.1922,  0.1529,  ..., -0.3882, -0.4902, -0.4902],\n",
              "          [ 0.1686,  0.1686,  0.1373,  ..., -0.4902, -0.6000, -0.6000],\n",
              "          [ 0.1686,  0.1686,  0.1373,  ..., -0.4902, -0.6000, -0.6000]],\n",
              "\n",
              "         [[-0.2706, -0.2706, -0.1686,  ...,  0.3255,  0.4980,  0.4980],\n",
              "          [-0.2706, -0.2706, -0.1686,  ...,  0.3255,  0.4980,  0.4980],\n",
              "          [-0.3020, -0.3020, -0.2000,  ...,  0.3020,  0.4510,  0.4510],\n",
              "          ...,\n",
              "          [-0.5529, -0.5529, -0.4431,  ..., -0.3882, -0.3882, -0.3882],\n",
              "          [-0.4980, -0.4980, -0.3804,  ..., -0.4353, -0.4196, -0.4196],\n",
              "          [-0.4980, -0.4980, -0.3804,  ..., -0.4353, -0.4196, -0.4196]],\n",
              "\n",
              "         [[-0.2157, -0.2157, -0.2157,  ...,  0.0431,  0.1451,  0.1451],\n",
              "          [-0.2157, -0.2157, -0.2157,  ...,  0.0431,  0.1451,  0.1451],\n",
              "          [-0.1608, -0.1608, -0.1529,  ...,  0.1137,  0.2000,  0.2000],\n",
              "          ...,\n",
              "          [ 0.7333,  0.7333,  0.5451,  ...,  0.2784,  0.4353,  0.4353],\n",
              "          [ 0.7098,  0.7098,  0.5216,  ...,  0.3098,  0.4902,  0.4902],\n",
              "          [ 0.7098,  0.7098,  0.5216,  ...,  0.3098,  0.4902,  0.4902]]],\n",
              "\n",
              "\n",
              "        [[[ 0.4667,  0.4667,  0.2941,  ..., -0.1686, -0.1922, -0.1922],\n",
              "          [ 0.4667,  0.4667,  0.2941,  ..., -0.1686, -0.1922, -0.1922],\n",
              "          [ 0.3725,  0.3725,  0.2314,  ..., -0.1137, -0.1294, -0.1294],\n",
              "          ...,\n",
              "          [ 0.2314,  0.2314,  0.2000,  ...,  0.4431,  0.6392,  0.6392],\n",
              "          [ 0.2392,  0.2392,  0.2078,  ...,  0.4588,  0.6627,  0.6627],\n",
              "          [ 0.2392,  0.2392,  0.2078,  ...,  0.4588,  0.6627,  0.6627]],\n",
              "\n",
              "         [[ 0.3412,  0.3412,  0.3725,  ...,  0.4745,  0.6706,  0.6706],\n",
              "          [ 0.3412,  0.3412,  0.3725,  ...,  0.4745,  0.6706,  0.6706],\n",
              "          [ 0.3882,  0.3882,  0.4196,  ...,  0.3333,  0.4902,  0.4902],\n",
              "          ...,\n",
              "          [ 0.4353,  0.4353,  0.3490,  ..., -0.2706, -0.3255, -0.3255],\n",
              "          [ 0.4275,  0.4275,  0.3333,  ..., -0.4118, -0.4667, -0.4667],\n",
              "          [ 0.4275,  0.4275,  0.3333,  ..., -0.4118, -0.4667, -0.4667]],\n",
              "\n",
              "         [[ 0.3804,  0.3804,  0.3098,  ..., -0.2235, -0.2235, -0.2235],\n",
              "          [ 0.3804,  0.3804,  0.3098,  ..., -0.2235, -0.2235, -0.2235],\n",
              "          [ 0.3961,  0.3961,  0.3255,  ..., -0.1059, -0.0902, -0.0902],\n",
              "          ...,\n",
              "          [ 0.0510,  0.0510,  0.0353,  ...,  0.5922,  0.7255,  0.7255],\n",
              "          [ 0.0902,  0.0902,  0.0667,  ...,  0.6549,  0.7961,  0.7961],\n",
              "          [ 0.0902,  0.0902,  0.0667,  ...,  0.6549,  0.7961,  0.7961]]],\n",
              "\n",
              "\n",
              "        [[[ 0.9137,  0.9137,  0.8196,  ..., -0.4275, -0.6000, -0.6000],\n",
              "          [ 0.9137,  0.9137,  0.8196,  ..., -0.4275, -0.6000, -0.6000],\n",
              "          [ 0.8667,  0.8667,  0.7804,  ..., -0.2863, -0.4039, -0.4039],\n",
              "          ...,\n",
              "          [ 0.0196,  0.0196, -0.0980,  ...,  0.4902,  0.6627,  0.6627],\n",
              "          [ 0.1373,  0.1373, -0.0039,  ...,  0.4980,  0.6941,  0.6941],\n",
              "          [ 0.1373,  0.1373, -0.0039,  ...,  0.4980,  0.6941,  0.6941]],\n",
              "\n",
              "         [[-0.3961, -0.3961, -0.3255,  ...,  0.8510,  0.9451,  0.9451],\n",
              "          [-0.3961, -0.3961, -0.3255,  ...,  0.8510,  0.9451,  0.9451],\n",
              "          [-0.3882, -0.3882, -0.3333,  ...,  0.7490,  0.8353,  0.8353],\n",
              "          ...,\n",
              "          [-0.8980, -0.8980, -0.7725,  ...,  0.1137,  0.1843,  0.1843],\n",
              "          [-0.9373, -0.9373, -0.7882,  ...,  0.1451,  0.2392,  0.2392],\n",
              "          [-0.9373, -0.9373, -0.7882,  ...,  0.1451,  0.2392,  0.2392]],\n",
              "\n",
              "         [[ 0.0588,  0.0588,  0.1529,  ..., -0.0588, -0.0588, -0.0588],\n",
              "          [ 0.0588,  0.0588,  0.1529,  ..., -0.0588, -0.0588, -0.0588],\n",
              "          [-0.0510, -0.0510,  0.0275,  ...,  0.0431,  0.0745,  0.0745],\n",
              "          ...,\n",
              "          [ 0.7490,  0.7490,  0.6627,  ...,  0.6157,  0.8196,  0.8196],\n",
              "          [ 0.7255,  0.7255,  0.6471,  ...,  0.7412,  0.9686,  0.9686],\n",
              "          [ 0.7255,  0.7255,  0.6471,  ...,  0.7412,  0.9686,  0.9686]]],\n",
              "\n",
              "\n",
              "        ...,\n",
              "\n",
              "\n",
              "        [[[-0.8196, -0.8196, -0.6784,  ...,  0.2471,  0.2706,  0.2706],\n",
              "          [-0.8196, -0.8196, -0.6784,  ...,  0.2471,  0.2706,  0.2706],\n",
              "          [-0.8196, -0.8196, -0.6784,  ...,  0.1765,  0.1843,  0.1843],\n",
              "          ...,\n",
              "          [ 0.6706,  0.6706,  0.5216,  ..., -0.7725, -0.8431, -0.8431],\n",
              "          [ 0.7255,  0.7255,  0.5686,  ..., -0.8667, -0.9529, -0.9529],\n",
              "          [ 0.7255,  0.7255,  0.5686,  ..., -0.8667, -0.9529, -0.9529]],\n",
              "\n",
              "         [[ 0.8588,  0.8588,  0.8431,  ...,  0.4275,  0.4196,  0.4196],\n",
              "          [ 0.8588,  0.8588,  0.8431,  ...,  0.4275,  0.4196,  0.4196],\n",
              "          [ 0.8353,  0.8353,  0.8118,  ...,  0.4118,  0.4039,  0.4039],\n",
              "          ...,\n",
              "          [-0.2863, -0.2863, -0.3490,  ...,  0.0275, -0.0667, -0.0667],\n",
              "          [-0.2627, -0.2627, -0.3412,  ...,  0.0196, -0.0980, -0.0980],\n",
              "          [-0.2627, -0.2627, -0.3412,  ...,  0.0196, -0.0980, -0.0980]],\n",
              "\n",
              "         [[ 0.1059,  0.1059,  0.0667,  ..., -0.4902, -0.6000, -0.6000],\n",
              "          [ 0.1059,  0.1059,  0.0667,  ..., -0.4902, -0.6000, -0.6000],\n",
              "          [ 0.2078,  0.2078,  0.1608,  ..., -0.3490, -0.4196, -0.4196],\n",
              "          ...,\n",
              "          [-0.5059, -0.5059, -0.4431,  ...,  0.5137,  0.5373,  0.5373],\n",
              "          [-0.6000, -0.6000, -0.5294,  ...,  0.7176,  0.7569,  0.7569],\n",
              "          [-0.6000, -0.6000, -0.5294,  ...,  0.7176,  0.7569,  0.7569]]],\n",
              "\n",
              "\n",
              "        [[[-0.6784, -0.6784, -0.6235,  ...,  0.6471,  0.6392,  0.6392],\n",
              "          [-0.6784, -0.6784, -0.6235,  ...,  0.6471,  0.6392,  0.6392],\n",
              "          [-0.5216, -0.5216, -0.4980,  ...,  0.5529,  0.5451,  0.5451],\n",
              "          ...,\n",
              "          [ 0.0431,  0.0431,  0.1216,  ...,  0.5529,  0.6078,  0.6078],\n",
              "          [ 0.0431,  0.0431,  0.1216,  ...,  0.5765,  0.6235,  0.6235],\n",
              "          [ 0.0431,  0.0431,  0.1216,  ...,  0.5765,  0.6235,  0.6235]],\n",
              "\n",
              "         [[ 0.2392,  0.2392,  0.1373,  ...,  0.6784,  0.8588,  0.8588],\n",
              "          [ 0.2392,  0.2392,  0.1373,  ...,  0.6784,  0.8588,  0.8588],\n",
              "          [ 0.1059,  0.1059,  0.0431,  ...,  0.5294,  0.6627,  0.6627],\n",
              "          ...,\n",
              "          [ 0.4980,  0.4980,  0.3725,  ...,  0.4667,  0.6314,  0.6314],\n",
              "          [ 0.5059,  0.5059,  0.3647,  ...,  0.5294,  0.7333,  0.7333],\n",
              "          [ 0.5059,  0.5059,  0.3647,  ...,  0.5294,  0.7333,  0.7333]],\n",
              "\n",
              "         [[ 0.0824,  0.0824, -0.0275,  ..., -0.1373, -0.2784, -0.2784],\n",
              "          [ 0.0824,  0.0824, -0.0275,  ..., -0.1373, -0.2784, -0.2784],\n",
              "          [ 0.0039,  0.0039, -0.0902,  ..., -0.1529, -0.2706, -0.2706],\n",
              "          ...,\n",
              "          [ 0.7412,  0.7412,  0.6078,  ...,  0.5608,  0.6078,  0.6078],\n",
              "          [ 0.7412,  0.7412,  0.6000,  ...,  0.5608,  0.6000,  0.6000],\n",
              "          [ 0.7412,  0.7412,  0.6000,  ...,  0.5608,  0.6000,  0.6000]]],\n",
              "\n",
              "\n",
              "        [[[ 0.8588,  0.8588,  0.6784,  ...,  0.3098,  0.3098,  0.3098],\n",
              "          [ 0.8588,  0.8588,  0.6784,  ...,  0.3098,  0.3098,  0.3098],\n",
              "          [ 0.6549,  0.6549,  0.5137,  ...,  0.3333,  0.3412,  0.3412],\n",
              "          ...,\n",
              "          [-0.4980, -0.4980, -0.4588,  ..., -0.0196, -0.0118, -0.0118],\n",
              "          [-0.5059, -0.5059, -0.4667,  ...,  0.0196,  0.0353,  0.0353],\n",
              "          [-0.5059, -0.5059, -0.4667,  ...,  0.0196,  0.0353,  0.0353]],\n",
              "\n",
              "         [[ 0.8353,  0.8353,  0.7255,  ...,  0.1373,  0.2157,  0.2157],\n",
              "          [ 0.8353,  0.8353,  0.7255,  ...,  0.1373,  0.2157,  0.2157],\n",
              "          [ 0.7412,  0.7412,  0.6471,  ...,  0.1373,  0.2000,  0.2000],\n",
              "          ...,\n",
              "          [ 0.1294,  0.1294,  0.2000,  ...,  0.8980,  0.9294,  0.9294],\n",
              "          [ 0.2549,  0.2549,  0.3098,  ...,  0.9608,  1.0000,  1.0000],\n",
              "          [ 0.2549,  0.2549,  0.3098,  ...,  0.9608,  1.0000,  1.0000]],\n",
              "\n",
              "         [[-0.0902, -0.0902, -0.0667,  ...,  0.6784,  0.6627,  0.6627],\n",
              "          [-0.0902, -0.0902, -0.0667,  ...,  0.6784,  0.6627,  0.6627],\n",
              "          [-0.1373, -0.1373, -0.1216,  ...,  0.6235,  0.6314,  0.6314],\n",
              "          ...,\n",
              "          [ 0.3255,  0.3255,  0.3020,  ..., -0.3804, -0.5137, -0.5137],\n",
              "          [ 0.2314,  0.2314,  0.2392,  ..., -0.4275, -0.5843, -0.5843],\n",
              "          [ 0.2314,  0.2314,  0.2392,  ..., -0.4275, -0.5843, -0.5843]]]])"
            ]
          },
          "metadata": {
            "tags": []
          },
          "execution_count": 32
        }
      ]
    }
  ]
}